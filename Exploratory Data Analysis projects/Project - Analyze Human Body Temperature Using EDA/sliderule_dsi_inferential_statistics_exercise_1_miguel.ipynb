{
 "cells": [
  {
   "cell_type": "markdown",
   "metadata": {},
   "source": [
    "# What is the True Normal Human Body Temperature? \n",
    "\n",
    "#### Background\n",
    "\n",
    "The mean normal body temperature was held to be 37$^{\\circ}$C or 98.6$^{\\circ}$F for more than 120 years since it was first conceptualized and reported by Carl Wunderlich in a famous 1868 book. But, is this value statistically correct?"
   ]
  },
  {
   "cell_type": "markdown",
   "metadata": {},
   "source": [
    "<h3>Exercises</h3>\n",
    "\n",
    "<p>In this exercise, you will analyze a dataset of human body temperatures and employ the concepts of hypothesis testing, confidence intervals, and statistical significance.</p>\n",
    "\n",
    "<p>Answer the following questions <b>in this notebook below and submit to your Github account</b>.</p> \n",
    "\n",
    "<ol>\n",
    "<li>  Is the distribution of body temperatures normal? \n",
    "    <ul>\n",
    "    <li> Although this is not a requirement for the Central Limit Theorem to hold (read the introduction on Wikipedia's page about the CLT carefully: https://en.wikipedia.org/wiki/Central_limit_theorem), it gives us some peace of mind that the population may also be normally distributed if we assume that this sample is representative of the population.\n",
    "    <li> Think about the way you're going to check for the normality of the distribution. Graphical methods are usually used first, but there are also other ways: https://en.wikipedia.org/wiki/Normality_test\n",
    "    </ul>\n",
    "<li>  Is the sample size large? Are the observations independent?\n",
    "    <ul>\n",
    "    <li> Remember that this is a condition for the Central Limit Theorem, and hence the statistical tests we are using, to apply.\n",
    "    </ul>\n",
    "<li>  Is the true population mean really 98.6 degrees F?\n",
    "    <ul>\n",
    "    <li> First, try a bootstrap hypothesis test.\n",
    "    <li> Now, let's try frequentist statistical testing. Would you use a one-sample or two-sample test? Why?\n",
    "    <li> In this situation, is it appropriate to use the $t$ or $z$ statistic? \n",
    "    <li> Now try using the other test. How is the result be different? Why?\n",
    "    </ul>\n",
    "<li>  Draw a small sample of size 10 from the data and repeat both frequentist tests. \n",
    "    <ul>\n",
    "    <li> Which one is the correct one to use? \n",
    "    <li> What do you notice? What does this tell you about the difference in application of the $t$ and $z$ statistic?\n",
    "    </ul>\n",
    "<li>  At what temperature should we consider someone's temperature to be \"abnormal\"?\n",
    "    <ul>\n",
    "    <li> As in the previous example, try calculating everything using the boostrap approach, as well as the frequentist approach.\n",
    "    <li> Start by computing the margin of error and confidence interval. When calculating the confidence interval, keep in mind that you should use the appropriate formula for one draw, and not N draws.\n",
    "    </ul>\n",
    "<li>  Is there a significant difference between males and females in normal temperature?\n",
    "    <ul>\n",
    "    <li> What testing approach did you use and why?\n",
    "    <li> Write a story with your conclusion in the context of the original problem.\n",
    "    </ul>\n",
    "</ol>\n",
    "\n",
    "You can include written notes in notebook cells using Markdown: \n",
    "   - In the control panel at the top, choose Cell > Cell Type > Markdown\n",
    "   - Markdown syntax: http://nestacms.com/docs/creating-content/markdown-cheat-sheet\n",
    "\n",
    "#### Resources\n",
    "\n",
    "+ Information and data sources: http://www.amstat.org/publications/jse/datasets/normtemp.txt, http://www.amstat.org/publications/jse/jse_data_archive.htm\n",
    "+ Markdown syntax: http://nestacms.com/docs/creating-content/markdown-cheat-sheet\n",
    "\n",
    "****"
   ]
  },
  {
   "cell_type": "code",
   "execution_count": 1,
   "metadata": {},
   "outputs": [],
   "source": [
    "import pandas as pd\n",
    "%matplotlib inline\n",
    "import matplotlib.pyplot as plt\n",
    "import seaborn as sns\n",
    "sns.set()\n",
    "import numpy as np\n",
    "from scipy.stats import normaltest, shapiro, norm, t\n",
    "from scipy import stats\n",
    "\n",
    "df = pd.read_csv('data/human_body_temperature.csv')"
   ]
  },
  {
   "cell_type": "code",
   "execution_count": 2,
   "metadata": {},
   "outputs": [
    {
     "data": {
      "text/html": [
       "<div>\n",
       "<style scoped>\n",
       "    .dataframe tbody tr th:only-of-type {\n",
       "        vertical-align: middle;\n",
       "    }\n",
       "\n",
       "    .dataframe tbody tr th {\n",
       "        vertical-align: top;\n",
       "    }\n",
       "\n",
       "    .dataframe thead th {\n",
       "        text-align: right;\n",
       "    }\n",
       "</style>\n",
       "<table border=\"1\" class=\"dataframe\">\n",
       "  <thead>\n",
       "    <tr style=\"text-align: right;\">\n",
       "      <th></th>\n",
       "      <th>temperature</th>\n",
       "      <th>gender</th>\n",
       "      <th>heart_rate</th>\n",
       "    </tr>\n",
       "  </thead>\n",
       "  <tbody>\n",
       "    <tr>\n",
       "      <th>0</th>\n",
       "      <td>99.3</td>\n",
       "      <td>F</td>\n",
       "      <td>68.0</td>\n",
       "    </tr>\n",
       "    <tr>\n",
       "      <th>1</th>\n",
       "      <td>98.4</td>\n",
       "      <td>F</td>\n",
       "      <td>81.0</td>\n",
       "    </tr>\n",
       "    <tr>\n",
       "      <th>2</th>\n",
       "      <td>97.8</td>\n",
       "      <td>M</td>\n",
       "      <td>73.0</td>\n",
       "    </tr>\n",
       "    <tr>\n",
       "      <th>3</th>\n",
       "      <td>99.2</td>\n",
       "      <td>F</td>\n",
       "      <td>66.0</td>\n",
       "    </tr>\n",
       "    <tr>\n",
       "      <th>4</th>\n",
       "      <td>98.0</td>\n",
       "      <td>F</td>\n",
       "      <td>73.0</td>\n",
       "    </tr>\n",
       "  </tbody>\n",
       "</table>\n",
       "</div>"
      ],
      "text/plain": [
       "   temperature gender  heart_rate\n",
       "0         99.3      F        68.0\n",
       "1         98.4      F        81.0\n",
       "2         97.8      M        73.0\n",
       "3         99.2      F        66.0\n",
       "4         98.0      F        73.0"
      ]
     },
     "execution_count": 2,
     "metadata": {},
     "output_type": "execute_result"
    }
   ],
   "source": [
    "df.head()"
   ]
  },
  {
   "cell_type": "markdown",
   "metadata": {},
   "source": [
    "##### 1) Is the distribution of body temperatures normal?"
   ]
  },
  {
   "cell_type": "code",
   "execution_count": 24,
   "metadata": {},
   "outputs": [
    {
     "data": {
      "image/png": "[encoded data removed]",
      "text/plain": [
       "<Figure size 432x288 with 1 Axes>"
      ]
     },
     "metadata": {
      "needs_background": "light"
     },
     "output_type": "display_data"
    }
   ],
   "source": [
    "temperature = df['temperature']\n",
    "\n",
    "# graphical display of the temperature data - histogram\n",
    "sns.distplot(temperature)\n",
    "plt.show()"
   ]
  },
  {
   "cell_type": "markdown",
   "metadata": {},
   "source": [
    "The kernel density estimate looks more or less like a normal distribution."
   ]
  },
  {
   "cell_type": "code",
   "execution_count": 4,
   "metadata": {},
   "outputs": [
    {
     "data": {
      "image/png": "[encoded data removed]",
      "text/plain": [
       "<Figure size 432x288 with 1 Axes>"
      ]
     },
     "metadata": {
      "needs_background": "light"
     },
     "output_type": "display_data"
    }
   ],
   "source": [
    "# graphical display of the CDF\n",
    "\n",
    "# ecdf function\n",
    "def ecdf(data):\n",
    "    \"\"\"ECDF for a **one-dimensional** array of measurements.\"\"\"\n",
    "    x = np.sort(data)\n",
    "    y = np.arange(1, len(data) + 1) / len(data)\n",
    "    return x, y\n",
    "\n",
    "# mean and standard deviation of the data\n",
    "mean_temp = np.mean(temperature) \n",
    "std_temp = np.std(temperature)\n",
    "\n",
    "# 10,000 samples out of a normal distribution with mean_temp and std_temp\n",
    "samples = np.random.normal(mean_temp, std_temp, size=10000)\n",
    "\n",
    "# CDF of the samples and of the temperature data\n",
    "x_theor, y_theor = ecdf(samples)\n",
    "x, y = ecdf(temperature)\n",
    "\n",
    "# Plot\n",
    "plt.plot(x_theor, y_theor)\n",
    "plt.plot(x, y, marker='.', linestyle='none')\n",
    "plt.legend(('theoretical CDF', 'temperature data'), loc='lower right')\n",
    "plt.xlabel('Temperature (F)')\n",
    "plt.ylabel('CDF')\n",
    "\n",
    "plt.subplots_adjust(left=0, bottom=0, right=1.1, top=1, wspace=0, hspace=0)\n",
    "plt.show()"
   ]
  },
  {
   "cell_type": "markdown",
   "metadata": {},
   "source": [
    "With the CDF it is clearer. Graphically, it looks like a normal distribution."
   ]
  },
  {
   "cell_type": "markdown",
   "metadata": {},
   "source": [
    "Since the graphical display could still suggest a slight skewness and kurtosis, we will do two normality tests: D'Agostino's K-squared test and the Shapiro-Wilk test. The null hypothesis, in both cases, assumes normality of the distribution."
   ]
  },
  {
   "cell_type": "code",
   "execution_count": 5,
   "metadata": {},
   "outputs": [
    {
     "name": "stdout",
     "output_type": "stream",
     "text": [
      "D'Agostino's K-squared test: statistic=2.704; p-value=0.259\n",
      "Shapiro-Wilk test: statistic=0.987; p-value=0.233\n"
     ]
    }
   ],
   "source": [
    "# D'Agostino's K-squared test\n",
    "stat, p_value = normaltest(temperature)\n",
    "print(\"D'Agostino's K-squared test: statistic=%.3f; p-value=%.3f\" % (stat, p_value))\n",
    "\n",
    "# Shapiro-Wilk test\n",
    "stat, p_value = shapiro(temperature)\n",
    "print(\"Shapiro-Wilk test: statistic=%.3f; p-value=%.3f\" % (stat, p_value))"
   ]
  },
  {
   "cell_type": "markdown",
   "metadata": {},
   "source": [
    "Since the p-value is greater than a chosen significance level of 5% (and in both cases), we can not reject the \n",
    "null hypothesis that the temperature acquired sample came from a normal distributed population."
   ]
  },
  {
   "cell_type": "markdown",
   "metadata": {},
   "source": [
    "##### 2) Is the sample size large? Are the observations independent?"
   ]
  },
  {
   "cell_type": "code",
   "execution_count": 25,
   "metadata": {},
   "outputs": [
    {
     "name": "stdout",
     "output_type": "stream",
     "text": [
      "130\n"
     ]
    }
   ],
   "source": [
    "# sample size\n",
    "print(len(temperature))"
   ]
  },
  {
   "cell_type": "markdown",
   "metadata": {},
   "source": [
    "The conditions for assuming the Central Limit Theorem implications are met, since:\n",
    " - the sample is more or less symmetric and bigger than 30, the value normally assumed for the validity of the Central Limit Theorem.\n",
    " - Probably there was no replacement when retrieving the sample, but the observations are considered to be independent, since they constitute less than 10% of the population size (the 10% rule). \n",
    " - the sample was taken randomly (I assumed that it was)."
   ]
  },
  {
   "cell_type": "markdown",
   "metadata": {},
   "source": [
    "##### 3) Is the true population mean really 98.6 degrees F?"
   ]
  },
  {
   "cell_type": "markdown",
   "metadata": {},
   "source": [
    "**First, try a bootstrap hypothesis test.**\n",
    "\n",
    "\n"
   ]
  },
  {
   "cell_type": "markdown",
   "metadata": {},
   "source": [
    "- Null hypothesis: \"the true population mean is 98.6 degrees Fahrenheit\"\n",
    "\n",
    "- Alternative hypothesis: \"the true population mean is different than 98.6 degrees Fahrenheit\"\n",
    "\n",
    "- test statistic: \"mean\""
   ]
  },
  {
   "cell_type": "code",
   "execution_count": 7,
   "metadata": {},
   "outputs": [
    {
     "name": "stdout",
     "output_type": "stream",
     "text": [
      "p-value: 0.0\n",
      "significance level = 0.05\n"
     ]
    }
   ],
   "source": [
    "# generatebootstrap replicate generation function\n",
    "def bootstrap_replicate_1d(data, func):\n",
    "    return func(np.random.choice(data, size=len(data))) \n",
    "\n",
    "# generate several bootstrap replicates function\n",
    "def draw_bs_reps(data, func, size=1):\n",
    "    bs_replicates = np.empty(size)\n",
    "    for i in range(size):\n",
    "        bs_replicates[i] = bootstrap_replicate_1d(data, func)\n",
    "    return bs_replicates\n",
    "\n",
    "# population mean\n",
    "null_hypothesis_mean = 98.6\n",
    "\n",
    "# mean of the temperature data\n",
    "mean_temp = np.mean(temperature) \n",
    "\n",
    "# shifting the temperature array\n",
    "mean_shifted = temperature - mean_temp + null_hypothesis_mean\n",
    "\n",
    "# 10,000 bootstrap replicates from the shifted array\n",
    "replicates = draw_bs_reps(mean_shifted, np.mean, 10000)\n",
    "\n",
    "# p-value\n",
    "p_value = np.sum(replicates <= mean_temp) / len(replicates)\n",
    "\n",
    "print(\"p-value:\", p_value)\n",
    "print(\"significance level = 0.05\")"
   ]
  },
  {
   "cell_type": "markdown",
   "metadata": {},
   "source": [
    "Based on a significance level of 0.05, we have statistical evidence to reject the hypothesis that the true mean is 98.6 degrees Fahrenheit."
   ]
  },
  {
   "cell_type": "markdown",
   "metadata": {},
   "source": [
    "**Now, let's try frequentist statistical testing. Would you use a one-sample or two-sample test? Why?**"
   ]
  },
  {
   "cell_type": "markdown",
   "metadata": {},
   "source": [
    "- Null hypothesis: \"the true population mean is 98.6 degrees Fahrenheit\"\n",
    "\n",
    "- Alternative hypothesis: \"the true population mean is different than 98.6 degrees Fahrenheit\""
   ]
  },
  {
   "cell_type": "code",
   "execution_count": 8,
   "metadata": {},
   "outputs": [
    {
     "name": "stdout",
     "output_type": "stream",
     "text": [
      "t statistic: -5.475925202078116\n",
      "p-value: 2.1887464624095175e-07\n"
     ]
    }
   ],
   "source": [
    "# null hypothesis mean\n",
    "null_hypothesis_mean = 98.6\n",
    "\n",
    "# mean and standard deviation of the data\n",
    "mean_temp = np.mean(temperature)  # 98.249\n",
    "std_temp = np.std(temperature)  # 0.73\n",
    "\n",
    "# t statistic\n",
    "t_statistic = (mean_temp - null_hypothesis_mean) / (std_temp/np.sqrt(len(temperature)))\n",
    "p_value = stats.t.cdf(t_statistic, df=len(temperature) - 1) * 2\n",
    "\n",
    "print(\"t statistic:\", t_statistic)\n",
    "print(\"p-value:\", p_value)"
   ]
  },
  {
   "cell_type": "markdown",
   "metadata": {},
   "source": [
    "Considering a significance level of 0.05, we have statistical evidence to say that we reject the null hypothesis, which assumes that the true mean is 98.6 degrees Fahrenheit. I calculated the p-value considering the area of the CDF of the t-distribution that goes until approximately 5.5 standard deviations below or above the mean, since it is symmetric, as the normal distribution."
   ]
  },
  {
   "cell_type": "markdown",
   "metadata": {},
   "source": [
    "I used a one-sample test since we want to compare the mean of our sample with a value for which we don't have the data."
   ]
  },
  {
   "cell_type": "markdown",
   "metadata": {},
   "source": [
    "**In this situation, is it appropriate to use the  𝑡  or  𝑧  statistic?**"
   ]
  },
  {
   "cell_type": "markdown",
   "metadata": {},
   "source": [
    "Although the sample is considered to be large (bigger than 30), I chose to use the t statistic since we do not know the standard deviation of the population. The t-distribution converges to the normal distribution. In any case, the results are very close when we use the z statistic because the sample size is large."
   ]
  },
  {
   "cell_type": "markdown",
   "metadata": {},
   "source": [
    "**Now try using the other test. How is the result be different? Why?**"
   ]
  },
  {
   "cell_type": "code",
   "execution_count": 9,
   "metadata": {},
   "outputs": [
    {
     "name": "stdout",
     "output_type": "stream",
     "text": [
      "z statistic: -5.475925202078116\n",
      "p-value: 4.3523151658821886e-08\n"
     ]
    }
   ],
   "source": [
    "# Z-test\n",
    "z_statistic = (mean_temp - null_hypothesis_mean) / (std_temp/np.sqrt(len(temperature)))\n",
    "p_value = stats.norm.cdf(z_statistic) * 2\n",
    "\n",
    "print(\"z statistic:\", z_statistic)\n",
    "print(\"p-value:\", p_value)"
   ]
  },
  {
   "cell_type": "markdown",
   "metadata": {},
   "source": [
    "As noted above, the conclusion is the same since the sample size is big enough and the population very likely follows a normal distribution."
   ]
  },
  {
   "cell_type": "markdown",
   "metadata": {},
   "source": [
    "##### 4) Draw a small sample of size 10 from the data and repeat both frequentist tests."
   ]
  },
  {
   "cell_type": "code",
   "execution_count": 10,
   "metadata": {},
   "outputs": [],
   "source": [
    "# sample of size 10\n",
    "sample_10 = np.random.choice(temperature, size=10)\n",
    "\n",
    "# sample mean and standard deviation\n",
    "sample_mean = np.mean(sample_10)\n",
    "sample_std = np.std(sample_10)"
   ]
  },
  {
   "cell_type": "code",
   "execution_count": 11,
   "metadata": {},
   "outputs": [
    {
     "data": {
      "image/png": "[encoded data removed]",
      "text/plain": [
       "<Figure size 432x288 with 1 Axes>"
      ]
     },
     "metadata": {
      "needs_background": "light"
     },
     "output_type": "display_data"
    }
   ],
   "source": [
    "# CDF\n",
    "\n",
    "# 10,000 samples out of a normal distribution with sample_mean and sample_std\n",
    "samples = np.random.normal(sample_mean, sample_std, size=10000)\n",
    "\n",
    "# CDF of the samples and of the temperature data\n",
    "x_theor, y_theor = ecdf(samples)\n",
    "x, y = ecdf(sample_10)\n",
    "\n",
    "# Plot\n",
    "plt.plot(x_theor, y_theor)\n",
    "plt.plot(x, y, marker='.', linestyle='none')\n",
    "plt.legend(('theoretical CDF', 'sample_10 data'), loc='lower right')\n",
    "plt.xlabel('Temperature (F)')\n",
    "plt.ylabel('CDF')\n",
    "plt.show()"
   ]
  },
  {
   "cell_type": "code",
   "execution_count": 12,
   "metadata": {},
   "outputs": [
    {
     "name": "stdout",
     "output_type": "stream",
     "text": [
      "Shapiro-Wilk test: statistic=0.928; p-value=0.431\n"
     ]
    }
   ],
   "source": [
    "# Shapiro-Wilk test\n",
    "stat, p_value = shapiro(sample_10)\n",
    "print(\"Shapiro-Wilk test: statistic=%.3f; p-value=%.3f\" % (stat, p_value))"
   ]
  },
  {
   "cell_type": "code",
   "execution_count": 13,
   "metadata": {},
   "outputs": [
    {
     "name": "stdout",
     "output_type": "stream",
     "text": [
      "t statistic: -2.840690101507187\n",
      "p-value: 0.0026165688091909145\n"
     ]
    }
   ],
   "source": [
    "# t statistic\n",
    "t_statistic_10 = (sample_mean - null_hypothesis_mean) / (sample_std/np.sqrt(len(sample_10)))\n",
    "p_value_10 = stats.t.cdf(t_statistic_10, df=len(temperature) - 1)\n",
    "\n",
    "print(\"t statistic:\", t_statistic_10)\n",
    "print(\"p-value:\", p_value_10)"
   ]
  },
  {
   "cell_type": "markdown",
   "metadata": {},
   "source": [
    "Since the p-value here is higher than the assumed significance level (5%), we do not have sufficient statistical evidence to reject the null hypothesis."
   ]
  },
  {
   "cell_type": "code",
   "execution_count": 14,
   "metadata": {},
   "outputs": [
    {
     "name": "stdout",
     "output_type": "stream",
     "text": [
      "z statistic: -2.840690101507187\n",
      "p-value: 0.0022508016905792385\n"
     ]
    }
   ],
   "source": [
    "# Z-test\n",
    "z_statistic_10 = (sample_mean - null_hypothesis_mean) / (sample_std/np.sqrt(len(sample_10)))\n",
    "p_value_10 = stats.norm.cdf(z_statistic_10)\n",
    "\n",
    "print(\"z statistic:\", z_statistic_10)\n",
    "print(\"p-value:\", p_value_10)"
   ]
  },
  {
   "cell_type": "markdown",
   "metadata": {},
   "source": [
    "With the z statistic the conclusion is the same: we fail to reject the null hypothesis."
   ]
  },
  {
   "cell_type": "markdown",
   "metadata": {},
   "source": [
    "**Which one is the correct one to use?**"
   ]
  },
  {
   "cell_type": "markdown",
   "metadata": {},
   "source": [
    "The correct one to use is the t statistic, since the sample size is inferior to the usual considered value (30), from which the t-distribution starts to approximate the normal distribution. The sample data was taken randomly, with replacement, looks normal and passes tests."
   ]
  },
  {
   "cell_type": "markdown",
   "metadata": {},
   "source": [
    "**What do you notice? What does this tell you about the difference in application of the  𝑡  and  𝑧  statistic?**"
   ]
  },
  {
   "cell_type": "markdown",
   "metadata": {},
   "source": [
    "The p-value is higher when using the t statistic since the t-distribution is similar to the normal distribution but with heavier tails, meaning that it is more prone to accomodate values that are farther away from the mean. This way it is more likely to reject the null hypothesis when using the z statistic, which is likely the correct conclusion in this case. The difference is not very significant, though, regarding the p-value. What is more noticeable is the importance of the size of the sample. As the sample size increases, the probability of making an incorrect conclusion decreases. In this case a sample of 10 seems extremely small to the study we want to make."
   ]
  },
  {
   "cell_type": "markdown",
   "metadata": {},
   "source": [
    "##### 5) At what temperature should we consider someone's temperature to be \"abnormal\"?"
   ]
  },
  {
   "cell_type": "markdown",
   "metadata": {},
   "source": [
    "**As in the previous example, try calculating everything using the boostrap approach, as well as the frequentist approach. Start by computing the margin of error and confidence interval. When calculating the confidence interval, keep in mind that you should use the appropriate formula for one draw, and not N draws.**"
   ]
  },
  {
   "cell_type": "markdown",
   "metadata": {},
   "source": [
    "*Frequentist approach*"
   ]
  },
  {
   "cell_type": "code",
   "execution_count": 15,
   "metadata": {},
   "outputs": [
    {
     "name": "stdout",
     "output_type": "stream",
     "text": [
      "For one draw, the 95% confidence interval is [ 96.81775582674824 , 99.68070571171332 ]\n"
     ]
    }
   ],
   "source": [
    "# margin of error \n",
    "margin_error = stats.norm.ppf(0.975) * np.std(temperature)  #one draw\n",
    "\n",
    "# 95% confidence interval\n",
    "c_interval_left = np.mean(temperature) - margin_error\n",
    "c_interval_right = np.mean(temperature) + margin_error\n",
    "\n",
    "#or \n",
    "c_interval = stats.norm.interval(0.95, loc=mean_temp, scale=std_temp)\n",
    "\n",
    "print(\"For one draw, the 95% confidence interval is [\", c_interval_left, \",\", c_interval_right, \"]\")"
   ]
  },
  {
   "cell_type": "markdown",
   "metadata": {},
   "source": [
    "From the frequentist approach, a temperature outside the computed values could be considered to be abnormal."
   ]
  },
  {
   "cell_type": "markdown",
   "metadata": {},
   "source": [
    "*Bootstrap approach*"
   ]
  },
  {
   "cell_type": "code",
   "execution_count": 16,
   "metadata": {},
   "outputs": [
    {
     "name": "stdout",
     "output_type": "stream",
     "text": [
      "95% confidence interval = [98.12307692 98.37461538]\n"
     ]
    }
   ],
   "source": [
    "# bootstrap replicates of the mean \n",
    "bs_replicates = draw_bs_reps(temperature, np.mean, 10000)\n",
    "\n",
    "# 95% confidence interval\n",
    "conf_int = np.percentile(bs_replicates, [2.5, 97.5])\n",
    "\n",
    "print('95% confidence interval =', conf_int)"
   ]
  },
  {
   "cell_type": "markdown",
   "metadata": {},
   "source": [
    "A temperature outside the boundaries of the computed value would be considered abnormal, according to the method I used for the bootstrap approach. I considered, however, 10000 replicas of the mean of the data, so the interval is tighter."
   ]
  },
  {
   "cell_type": "markdown",
   "metadata": {},
   "source": [
    "##### 6) Is there a significant difference between males and females in normal temperature?\n"
   ]
  },
  {
   "cell_type": "markdown",
   "metadata": {},
   "source": [
    "First I will look graphically how the temperature of the two gender behave"
   ]
  },
  {
   "cell_type": "code",
   "execution_count": 17,
   "metadata": {},
   "outputs": [
    {
     "data": {
      "image/png": "[encoded data removed]",
      "text/plain": [
       "<Figure size 432x288 with 1 Axes>"
      ]
     },
     "metadata": {
      "needs_background": "light"
     },
     "output_type": "display_data"
    }
   ],
   "source": [
    "# selection of both gender temperature values\n",
    "male_temp = df[df['gender'] == 'M'].temperature\n",
    "female_temp = df[df['gender'] == 'F'].temperature\n",
    "\n",
    "# ECDF of both\n",
    "x_male, y_male = ecdf(male_temp)\n",
    "x_female, y_female = ecdf(female_temp)\n",
    "\n",
    "# Plot \n",
    "plt.plot(x_male, y_male, marker='.', linestyle='none')\n",
    "plt.plot(x_female, y_female, marker='.', linestyle='none')\n",
    "\n",
    "plt.legend(('male temperature', 'female temperature'), loc='lower right')\n",
    "plt.xlabel('Temperature (F)')\n",
    "plt.ylabel('ECDF')\n",
    "plt.subplots_adjust(left=0, bottom=0, right=1, top=0.8, wspace=0.6, hspace=0.4)\n",
    "plt.show()"
   ]
  },
  {
   "cell_type": "code",
   "execution_count": 18,
   "metadata": {},
   "outputs": [
    {
     "data": {
      "image/png": "[encoded data removed]",
      "text/plain": [
       "<Figure size 432x288 with 1 Axes>"
      ]
     },
     "metadata": {
      "needs_background": "light"
     },
     "output_type": "display_data"
    }
   ],
   "source": [
    "# PDF\n",
    "sns.distplot(male_temp)\n",
    "sns.distplot(female_temp)\n",
    "plt.legend(('male temperature', 'female temperature'), loc='lower right')\n",
    "plt.subplots_adjust(left=0, bottom=0, right=1.2, top=0.8, wspace=0.6, hspace=0.4)\n",
    "plt.show()"
   ]
  },
  {
   "cell_type": "markdown",
   "metadata": {},
   "source": [
    "Graphically, it appears to be a clear difference between the two genders in normal temperature. Females seem to have higher values on average and the variance appear larger as well. Both appear to follow a normal distribution, although the male one seems closer."
   ]
  },
  {
   "cell_type": "code",
   "execution_count": 19,
   "metadata": {},
   "outputs": [
    {
     "name": "stdout",
     "output_type": "stream",
     "text": [
      "sample size for male temperature: 65\n",
      "sample size for female temperature: 65\n"
     ]
    }
   ],
   "source": [
    "print(\"sample size for male temperature:\", len(male_temp))\n",
    "print(\"sample size for female temperature:\", len(female_temp))"
   ]
  },
  {
   "cell_type": "markdown",
   "metadata": {},
   "source": [
    "Again, the conditions that were mentioned above for the validity of the use of test hypothesis are met, since the only extra criteria to check in this case was the length of the samples of each gender."
   ]
  },
  {
   "cell_type": "markdown",
   "metadata": {},
   "source": [
    "Considering, then, a hypothesis test, I assume that what it is asked is if there is a significant difference between their temperature mean, but I will check for a significant difference between their temperature distribution, as well as in their temperature mean, a less restrictive test.\n",
    "\n",
    "First I will study if they have the same distribution and compute the probability of them having a difference in mean temperature as extreme as they have in the sample (either larger or smaller, so I will use the absolute value when computing the replicas):\n",
    "   - Null hypotesis: \"there is not a significant difference between males and females in their normal temperature distribution\"\n",
    "   - test statistic: \"difference between the means\""
   ]
  },
  {
   "cell_type": "code",
   "execution_count": 20,
   "metadata": {},
   "outputs": [
    {
     "name": "stdout",
     "output_type": "stream",
     "text": [
      "The observed difference between the means (of female less male) is 0.289230769230727\n"
     ]
    }
   ],
   "source": [
    "# empirical difference between means\n",
    "emp_diff_means = np.mean(female_temp) - np.mean(male_temp)\n",
    "\n",
    "print(\"The observed difference between the means (of female less male) is\", emp_diff_means)"
   ]
  },
  {
   "cell_type": "markdown",
   "metadata": {},
   "source": [
    "*Bootstrap approach*"
   ]
  },
  {
   "cell_type": "code",
   "execution_count": 21,
   "metadata": {},
   "outputs": [
    {
     "name": "stdout",
     "output_type": "stream",
     "text": [
      "p-value = 0.0242\n"
     ]
    }
   ],
   "source": [
    "# function for generating a permutation replicate\n",
    "def permutation_sample(data1, data2):\n",
    "    data = np.concatenate((data1, data2))\n",
    "    permuted_data = np.random.permutation(data)\n",
    "    perm_sample_1 = permuted_data[:len(data1)]\n",
    "    perm_sample_2 = permuted_data[len(data1):]\n",
    "    return perm_sample_1, perm_sample_2\n",
    "\n",
    "# Generating permutation replicates\n",
    "def draw_perm_reps(data_1, data_2, func, size=1):\n",
    "    perm_replicates = np.empty(size)\n",
    "    for i in range(size):\n",
    "        perm_sample_1, perm_sample_2 = permutation_sample(data_1, data_2)\n",
    "        perm_replicates[i] = func(perm_sample_1, perm_sample_2)\n",
    "    return perm_replicates\n",
    "\n",
    "# diference of means:\n",
    "def diff_of_means(data_1, data_2):\n",
    "    diff = np.mean(data_1) - np.mean(data_2)\n",
    "    return diff\n",
    "\n",
    "# 10,000 permutation replicates\n",
    "perm_replicates = draw_perm_reps(female_temp, male_temp, diff_of_means, size=100000)\n",
    "\n",
    "# p-value\n",
    "p_value = np.sum(abs(perm_replicates) >= emp_diff_means) / len(perm_replicates)\n",
    "\n",
    "print('p-value =', p_value)"
   ]
  },
  {
   "cell_type": "markdown",
   "metadata": {},
   "source": [
    "Considering a significance level of 5%, we have statistical evidence to reject the null hypothesis."
   ]
  },
  {
   "cell_type": "markdown",
   "metadata": {},
   "source": [
    "Testing now if they have the same mean, doing a two-sample bootstrap hypothesis test:\n",
    "\n",
    "  - Null hypotesis: \"there is not a significant difference between males and females in their normal temperature mean\"\n",
    "  - test statistic: \"difference between the means\""
   ]
  },
  {
   "cell_type": "code",
   "execution_count": 22,
   "metadata": {},
   "outputs": [
    {
     "name": "stdout",
     "output_type": "stream",
     "text": [
      "p-value = 0.02171\n"
     ]
    }
   ],
   "source": [
    "# shifted arrays\n",
    "male_temp_shifted = male_temp - np.mean(male_temp) + np.mean(temperature)   \n",
    "female_temp_shifted = female_temp - np.mean(female_temp) + np.mean(temperature)  \n",
    "\n",
    "# 10,000 bootstrap replicates from shifted arrays\n",
    "bs_replicates_male = draw_bs_reps(male_temp_shifted, np.mean, 100000)\n",
    "bs_replicates_female = draw_bs_reps(female_temp_shifted, np.mean, 100000)\n",
    "\n",
    "# replicates of difference of means: bs_replicates\n",
    "bs_replicates = bs_replicates_female - bs_replicates_male\n",
    "\n",
    "# p-value\n",
    "p_value = sum(abs(bs_replicates) >= emp_diff_means) / len(bs_replicates) \n",
    "\n",
    "print('p-value =', p_value)"
   ]
  },
  {
   "cell_type": "markdown",
   "metadata": {},
   "source": [
    "Considering a significance level of 5%, we have statistical evidence to reject the null hypothesis."
   ]
  },
  {
   "cell_type": "markdown",
   "metadata": {},
   "source": [
    "Testing now via the frequentist approach:"
   ]
  },
  {
   "cell_type": "markdown",
   "metadata": {},
   "source": [
    "*Frequentist approach*\n",
    "\n",
    "   - Null hypotesis: \"there is not a significant difference between males and females in normal temperature mean\"\n",
    "   - test statistic: \"difference between the means\""
   ]
  },
  {
   "cell_type": "code",
   "execution_count": 23,
   "metadata": {},
   "outputs": [
    {
     "name": "stdout",
     "output_type": "stream",
     "text": [
      "The observed difference between the means is: 0.289230769230727\n",
      "The standard deviation of the new distribution is: 0.12557668521231213\n",
      "So the limit for not rejecting the null hypothesis is 0.24612578031405538\n",
      "The probability of having a result as extreme as the observed is 0.021266451830129318\n"
     ]
    }
   ],
   "source": [
    "# empirical difference between means\n",
    "emp_diff_means = np.mean(female_temp) - np.mean(male_temp)\n",
    "\n",
    "# standard deviation of the new distribution\n",
    "new_std = np.sqrt((np.var(male_temp)/len(male_temp))+(np.var(female_temp)/len(female_temp)))\n",
    "\n",
    "limit = stats.norm.ppf(0.975) * new_std\n",
    "\n",
    "print(\"The observed difference between the means is:\", emp_diff_means)\n",
    "print(\"The standard deviation of the new distribution is:\", new_std)\n",
    "print(\"So the limit for not rejecting the null hypothesis is\", limit)\n",
    "\n",
    "# p-value\n",
    "p_value = (1 - stats.norm.cdf(emp_diff_means, scale=new_std)) * 2\n",
    "print(\"The probability of having a result as extreme as the observed is\", p_value)"
   ]
  },
  {
   "cell_type": "markdown",
   "metadata": {},
   "source": [
    "Hence, we reject the null hypothesis."
   ]
  },
  {
   "cell_type": "markdown",
   "metadata": {},
   "source": [
    "**What testing approach did you use and why?**\n"
   ]
  },
  {
   "cell_type": "markdown",
   "metadata": {},
   "source": [
    "I used both approaches."
   ]
  },
  {
   "cell_type": "markdown",
   "metadata": {},
   "source": [
    "**Write a story with your conclusion in the context of the original problem.**"
   ]
  },
  {
   "cell_type": "markdown",
   "metadata": {},
   "source": [
    "The mean normal body temperature was held to be 98.6 degrees Fahrenheit for more than 120 years since it was first conceptualized. We started by verifying if the distribution of the temperature followed a normal distribution, based on our sample. That was indeed the case, after performing exploratory data analysis and two hypothesis tests.\n",
    "\n",
    "We then proceed to verify if the stated normal body temperature was in fact 98.6 degrees Fahrenheit. In order to do that, we first verified the necessary conditions to apply our subsequent procedures. Then, with both bootstrap and frequentist approaches, we gathered sufficient statistical evidence to reject the hypothesis that the true temperature was not the assumed one. Our sample and our result was sufficient enough to state that with high confidence.\n",
    "\n",
    "We then tested the hypothesis of a significant difference between male and female temperature. We concluded that there is, both in their mean and distribution. We can not, however, state that with as much confidence as before. The p-value in all cases was between 2.1 and 2.4%, so the conclusion may also depend on what experts of the matter think."
   ]
  },
  {
   "cell_type": "code",
   "execution_count": null,
   "metadata": {},
   "outputs": [],
   "source": []
  }
 ],
 "metadata": {
  "kernelspec": {
   "display_name": "Python 3",
   "language": "python",
   "name": "python3"
  },
  "language_info": {
   "codemirror_mode": {
    "name": "ipython",
    "version": 3
   },
   "file_extension": ".py",
   "mimetype": "text/x-python",
   "name": "python",
   "nbconvert_exporter": "python",
   "pygments_lexer": "ipython3",
   "version": "3.7.1"
  }
 },
 "nbformat": 4,
 "nbformat_minor": 1
}
